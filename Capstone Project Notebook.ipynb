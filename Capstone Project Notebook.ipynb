{
 "cells": [
  {
   "cell_type": "markdown",
   "metadata": {},
   "source": [
    "# Peer-Graded Assigment: Capstone Project Notebook"
   ]
  },
  {
   "cell_type": "markdown",
   "metadata": {},
   "source": [
    "*This notebook is for my peer-graded assigment of making a capstone project notebook. The course is for my Applied Data Science Capstone to complete my IBM certification in Data Science*"
   ]
  },
  {
   "cell_type": "code",
   "execution_count": 1,
   "metadata": {},
   "outputs": [],
   "source": [
    "# Second and third request in the assigment are:\n",
    "# 2. Import the Pandas library as pd \n",
    "import pandas as pd\n",
    "# 3. Import the Numpy library as np\n",
    "import numpy as np"
   ]
  },
  {
   "cell_type": "code",
   "execution_count": 2,
   "metadata": {},
   "outputs": [
    {
     "name": "stdout",
     "output_type": "stream",
     "text": [
      "Hello Cpastone Project Course! / Hola Curso de Proyecto Capstone\n"
     ]
    }
   ],
   "source": [
    "# Four request isto print the following the statement: Hello Capstone Project Course!\n",
    "print(\"Hello Cpastone Project Course! / Hola Curso de Proyecto Capstone\")"
   ]
  },
  {
   "cell_type": "code",
   "execution_count": null,
   "metadata": {},
   "outputs": [],
   "source": []
  }
 ],
 "metadata": {
  "kernelspec": {
   "display_name": "Python",
   "language": "python",
   "name": "conda-env-python-py"
  },
  "language_info": {
   "codemirror_mode": {
    "name": "ipython",
    "version": 3
   },
   "file_extension": ".py",
   "mimetype": "text/x-python",
   "name": "python",
   "nbconvert_exporter": "python",
   "pygments_lexer": "ipython3",
   "version": "3.6.7"
  }
 },
 "nbformat": 4,
 "nbformat_minor": 4
}
