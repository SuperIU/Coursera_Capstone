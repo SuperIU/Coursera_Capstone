{
 "cells": [
  {
   "cell_type": "markdown",
   "metadata": {},
   "source": [
    "## 1st Step. Create a Notebook for the Assigment"
   ]
  },
  {
   "cell_type": "markdown",
   "metadata": {},
   "source": [
    "# My Peer-Graded Assigment: Segmenting and Clustering Neighborhoods in Toronto"
   ]
  },
  {
   "cell_type": "markdown",
   "metadata": {},
   "source": [
    "First Part is to install the proper libraries"
   ]
  },
  {
   "cell_type": "code",
   "execution_count": null,
   "metadata": {},
   "outputs": [],
   "source": [
    "#Installin Beautiful Soup\n",
    "import sys\n",
    "!{sys.executable} -m pip install bs4"
   ]
  },
  {
   "cell_type": "code",
   "execution_count": null,
   "metadata": {},
   "outputs": [],
   "source": [
    "from bs4 import BeautifulSoup\n",
    "import pandas as pd\n",
    "import numpy as np\n",
    "import requests\n",
    "import os\n",
    "import codecs"
   ]
  },
  {
   "cell_type": "markdown",
   "metadata": {},
   "source": [
    "## 2nd Step. Get the information form Wikipedia"
   ]
  },
  {
   "cell_type": "markdown",
   "metadata": {},
   "source": [
    "Second Part of the assigment is to create the dataframe in pandas of the neighborhood of Toronto"
   ]
  },
  {
   "cell_type": "code",
   "execution_count": null,
   "metadata": {},
   "outputs": [],
   "source": [
    "wiki = \"https://en.wikipedia.org/wiki/List_of_postal_codes_of_Canada:_M\"\n",
    "header = {\n",
    "    'User-Agent': 'Mozilla/5.0'\n",
    "} # Needed to prevent 403 error on Wikipedia\n",
    "page = requests.get(wiki, headers=header)\n",
    "soup = BeautifulSoup(page.content)\n",
    "\n",
    "tables = soup.findAll(\"table\", {\"class\": \"wikitable\"})\n",
    "\n",
    "# show tables\n",
    "for table in tables:\n",
    "    print(\"###############\")\n",
    "    print(table.text[:100])\n",
    "\n",
    "for tn in range(len(tables)):\n",
    "    table = tables[tn]\n",
    "\n",
    "    # preinit list of lists\n",
    "    rows = table.findAll(\"tr\")\n",
    "    row_lengths = [len(r.findAll(['th', 'td'])) for r in rows]\n",
    "    ncols = max(row_lengths)\n",
    "    nrows = len(rows)\n",
    "    data = []\n",
    "    for i in range(nrows):\n",
    "        rowD = []\n",
    "        for j in range(ncols):\n",
    "            rowD.append('')\n",
    "        data.append(rowD)\n",
    "\n",
    "    # process html\n",
    "    for i in range(len(rows)):\n",
    "        row = rows[i]\n",
    "        rowD = []\n",
    "        cells = row.findAll([\"td\", \"th\"])\n",
    "        for j in range(len(cells)):\n",
    "            cell = cells[j]\n",
    "\n",
    "            #lots of cells span cols and rows so lets deal with that\n",
    "            cspan = int(cell.get('colspan', 1))\n",
    "            rspan = int(cell.get('rowspan', 1))\n",
    "            l = 0\n",
    "            for k in range(rspan):\n",
    "                # Shifts to the first empty cell of this row\n",
    "                while data[i + k][j + l]:\n",
    "                    l += 1\n",
    "                for m in range(cspan):\n",
    "                    data[i + k][j + l + m] += cell.text\n",
    "\n",
    "        data.append(rowD)\n",
    "\n",
    "    # write data out to tab seperated format\n",
    "    page = os.path.split(wiki)[1]\n",
    "    fname = 'output_{}_t{}.csv'.format(page, tn)\n",
    "    f = codecs.open(fname, 'w')\n",
    "    for i in range(nrows):\n",
    "        rowStr = '\\t'.join(data[i])\n",
    "        rowStr = rowStr.replace('\\n', '')\n",
    "        print(rowStr)\n",
    "        f.write(rowStr + '\\n')\n",
    "    f.close()"
   ]
  },
  {
   "cell_type": "markdown",
   "metadata": {},
   "source": [
    "## 3rd Step. Create the information in Pandas Dataframe"
   ]
  },
  {
   "cell_type": "markdown",
   "metadata": {},
   "source": [
    "First we put the info in a data frame and clean up the data as requested"
   ]
  },
  {
   "cell_type": "code",
   "execution_count": null,
   "metadata": {},
   "outputs": [],
   "source": [
    "df = pd.read_csv('output_List_of_postal_codes_of_Canada:_M_t0.csv', sep='\\t')\n",
    "df.head()"
   ]
  },
  {
   "cell_type": "code",
   "execution_count": null,
   "metadata": {},
   "outputs": [],
   "source": [
    "df.shape"
   ]
  },
  {
   "cell_type": "markdown",
   "metadata": {},
   "source": [
    " ### *Ignore rows with Not assigned*"
   ]
  },
  {
   "cell_type": "code",
   "execution_count": null,
   "metadata": {},
   "outputs": [],
   "source": [
    "# Show the first 15 rows of the original dataframe and the shape to compare\n",
    "print(\"Given Dataframe :\\n\", df.head(15))  \n",
    "print(\"Shape of Given Dataframe\", df.shape)\n",
    "\n",
    "# Filter rows that does not content \"Not assigned\"\n",
    "options = ['Not assigned']\n",
    "df_tor = df.loc[~df['Borough'].isin(options)] \n",
    "\n",
    "# Show the first 15 rows of the resultant dataframe and shape\n",
    "print('\\nResult Dataframe :\\n', df_tor.head(15)) \n",
    "print(\"Shape of Result Dataframe\", df_tor.shape)"
   ]
  },
  {
   "cell_type": "markdown",
   "metadata": {},
   "source": [
    " ### *Combine Rows with same Postcode adding Neighbourhood names with commas*"
   ]
  },
  {
   "cell_type": "code",
   "execution_count": null,
   "metadata": {},
   "outputs": [],
   "source": [
    "#Combine duplicated rows by groupby\n",
    "df_tor1 = (df_tor.groupby(['Postcode','Borough'])['Neighbourhood']\n",
    "       .apply(lambda x: ','.join(set(x.dropna())))\n",
    "       .reset_index())\n",
    "\n",
    "# Show the first 15 rows of the dataframe and shap\n",
    "print('Dataframe :\\n', df_tor1.head(15)) \n",
    "print(\"Shape of Dataframe\", df_tor1.shape)"
   ]
  },
  {
   "cell_type": "markdown",
   "metadata": {},
   "source": [
    " ### *Assign Neighborhood name in the Not Assigned Cells*"
   ]
  },
  {
   "cell_type": "code",
   "execution_count": null,
   "metadata": {},
   "outputs": [],
   "source": [
    "df_tor1.loc[df_tor1['Neighbourhood']==\"Not assigned\",'Neighbourhood']=df_tor1.loc[df_tor1['Neighbourhood']==\"Not assigned\",'Borough']\n",
    "print('Dataframe :\\n', df_tor1.tail(20)) \n",
    "print(\"Shape of Dataframe\", df_tor1.shape)"
   ]
  },
  {
   "cell_type": "markdown",
   "metadata": {},
   "source": [
    "## Step 4. Put the file in my repostery Github"
   ]
  },
  {
   "cell_type": "markdown",
   "metadata": {},
   "source": [
    "Ready \"https://github.com/SuperIU/Coursera_Capstone/blob/master/Segmenting%20and%20Clustering%20Neighborhoods%20in%20Toronto.ipynb\""
   ]
  },
  {
   "cell_type": "markdown",
   "metadata": {},
   "source": [
    "## Step 5. Assign coordenates for the postal codes in Toronto"
   ]
  },
  {
   "cell_type": "markdown",
   "metadata": {},
   "source": [
    "### *First we import the coodinates form the site given in the Assigment*"
   ]
  },
  {
   "cell_type": "code",
   "execution_count": 35,
   "metadata": {},
   "outputs": [
    {
     "name": "stdout",
     "output_type": "stream",
     "text": [
      "Data downloaded!\n"
     ]
    }
   ],
   "source": [
    "# Get the file given in the Assigment\n",
    "!wget -q -O 'Geopastical_Coordinates.csv' https://cocl.us/Geospatial_data\n",
    "print('Data downloaded!')"
   ]
  },
  {
   "cell_type": "code",
   "execution_count": 36,
   "metadata": {},
   "outputs": [
    {
     "name": "stdout",
     "output_type": "stream",
     "text": [
      "Postcode in Toronto :\n",
      "   Postal Code   Latitude  Longitude\n",
      "0         M1B  43.806686 -79.194353\n",
      "1         M1C  43.784535 -79.160497\n",
      "2         M1E  43.763573 -79.188711\n",
      "3         M1G  43.770992 -79.216917\n",
      "4         M1H  43.773136 -79.239476\n",
      "Shape of Postcode (103, 3)\n"
     ]
    }
   ],
   "source": [
    "# Get a dataframe with the postal codes and see if the list have the same rows of the Toronto DF\n",
    "dfll = pd.read_csv('Geopastical_Coordinates.csv')\n",
    "print('Postcode in Toronto :\\n',dfll.head())\n",
    "print(\"Shape of Postcode\", dfll.shape)"
   ]
  },
  {
   "cell_type": "markdown",
   "metadata": {},
   "source": [
    "### *We check both dataframes have the same rows. Now we orden in ascendent order both df and get the new columns*"
   ]
  },
  {
   "cell_type": "code",
   "execution_count": 37,
   "metadata": {},
   "outputs": [
    {
     "name": "stdout",
     "output_type": "stream",
     "text": [
      "First Rows of Toronto Post codes :\n",
      "   Postcode      Borough                         Neighbourhood\n",
      "0      M1B  Scarborough                         Malvern,Rouge\n",
      "1      M1C  Scarborough  Highland Creek,Rouge Hill,Port Union\n",
      "2      M1E  Scarborough       Morningside,Guildwood,West Hill\n",
      "3      M1G  Scarborough                                Woburn\n",
      "4      M1H  Scarborough                             Cedarbrae\n",
      "Fists Rows of Coordinates Toronto :\n",
      "   Postal Code   Latitude  Longitude\n",
      "0         M1B  43.806686 -79.194353\n",
      "1         M1C  43.784535 -79.160497\n",
      "2         M1E  43.763573 -79.188711\n",
      "3         M1G  43.770992 -79.216917\n",
      "4         M1H  43.773136 -79.239476\n",
      "Last Rows of Toronto Post codes :\n",
      "     Postcode    Borough                                      Neighbourhood\n",
      "98       M9N       York                                             Weston\n",
      "99       M9P  Etobicoke                                          Westmount\n",
      "100      M9R  Etobicoke  Richview Gardens,Kingsview Village,St. Phillip...\n",
      "101      M9V  Etobicoke  Mount Olive,South Steeles,Thistletown,Silverst...\n",
      "102      M9W  Etobicoke                                          Northwest\n",
      "Last Rows of Coordinates Toronto :\n",
      "     Postal Code   Latitude  Longitude\n",
      "98          M9N  43.706876 -79.518188\n",
      "99          M9P  43.696319 -79.532242\n",
      "100         M9R  43.688905 -79.554724\n",
      "101         M9V  43.739416 -79.588437\n",
      "102         M9W  43.706748 -79.594054\n"
     ]
    }
   ],
   "source": [
    "# Order both df in ascending order\n",
    "df_tor1.sort_values('Postcode')\n",
    "dfll.sort_values('Postal Code')\n",
    "#Check both dataframes heads and tails\n",
    "print('First Rows of Toronto Post codes :\\n',df_tor1.head())\n",
    "print('Fists Rows of Coordinates Toronto :\\n',dfll.head())\n",
    "print('Last Rows of Toronto Post codes :\\n',df_tor1.tail())\n",
    "print('Last Rows of Coordinates Toronto :\\n',dfll.tail())"
   ]
  },
  {
   "cell_type": "code",
   "execution_count": 38,
   "metadata": {},
   "outputs": [
    {
     "name": "stdout",
     "output_type": "stream",
     "text": [
      "First Rows of Toronto Post codes :\n",
      "   Postcode      Borough                         Neighbourhood   Latitude  \\\n",
      "0      M1B  Scarborough                         Malvern,Rouge  43.806686   \n",
      "1      M1C  Scarborough  Highland Creek,Rouge Hill,Port Union  43.784535   \n",
      "2      M1E  Scarborough       Morningside,Guildwood,West Hill  43.763573   \n",
      "3      M1G  Scarborough                                Woburn  43.770992   \n",
      "4      M1H  Scarborough                             Cedarbrae  43.773136   \n",
      "\n",
      "   Longitude  \n",
      "0 -79.194353  \n",
      "1 -79.160497  \n",
      "2 -79.188711  \n",
      "3 -79.216917  \n",
      "4 -79.239476  \n",
      "Shape of Dataframe (103, 5)\n"
     ]
    }
   ],
   "source": [
    "# Add the latitude and longitude columns in df_tor1 with the values of dfll\n",
    "df_tor1['Latitude']=dfll['Latitude']\n",
    "df_tor1['Longitude']=dfll['Longitude']\n",
    "# Check the new dataframe \n",
    "print('First Rows of Toronto Post codes :\\n',df_tor1.head())\n",
    "print(\"Shape of Dataframe\", df_tor1.shape)"
   ]
  },
  {
   "cell_type": "markdown",
   "metadata": {},
   "source": [
    "# Step 6. Create a notebook with the result"
   ]
  },
  {
   "cell_type": "code",
   "execution_count": null,
   "metadata": {},
   "outputs": [],
   "source": []
  }
 ],
 "metadata": {
  "kernelspec": {
   "display_name": "Python",
   "language": "python",
   "name": "conda-env-python-py"
  },
  "language_info": {
   "codemirror_mode": {
    "name": "ipython",
    "version": 3
   },
   "file_extension": ".py",
   "mimetype": "text/x-python",
   "name": "python",
   "nbconvert_exporter": "python",
   "pygments_lexer": "ipython3",
   "version": "3.6.7"
  }
 },
 "nbformat": 4,
 "nbformat_minor": 4
}
